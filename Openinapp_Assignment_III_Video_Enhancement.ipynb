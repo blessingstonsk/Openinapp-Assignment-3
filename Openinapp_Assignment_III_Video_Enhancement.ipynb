{
  "nbformat": 4,
  "nbformat_minor": 0,
  "metadata": {
    "colab": {
      "provenance": [],
      "private_outputs": true,
      "gpuType": "T4"
    },
    "kernelspec": {
      "name": "python3",
      "display_name": "Python 3"
    },
    "language_info": {
      "name": "python"
    },
    "accelerator": "GPU"
  },
  "cells": [
    {
      "cell_type": "markdown",
      "source": [
        "# **Assignment 3:**\n",
        "Showcase your proficiency in developing an advanced AI model capable of enhancing the quality of a video by upscaling its resolution and reducing noise. And only use the videos provided in the PDF to work on the upscaling task."
      ],
      "metadata": {
        "id": "qfGJaDFOAVpj"
      }
    },
    {
      "cell_type": "markdown",
      "source": [
        "# **Step 1: Download required libraries**"
      ],
      "metadata": {
        "id": "D2KwByRkAxqo"
      }
    },
    {
      "cell_type": "code",
      "metadata": {
        "id": "GnpnrLfMV2jU"
      },
      "source": [
        "from google.colab import drive, files\n",
        "import os, shutil, subprocess\n",
        "drive_mounted = False\n",
        "temp_folder = 'tmp_frames'\n",
        "result_folder = 'results'\n",
        "!git clone https://github.com/xinntao/Real-ESRGAN.git\n",
        "%cd Real-ESRGAN\n",
        "# Set up the environment\n",
        "!pip install basicsr facexlib gfpgan\n",
        "!pip install -r requirements.txt\n",
        "!python setup.py develop\n",
        "# Download the pre-trained model\n",
        "!wget https://github.com/xinntao/Real-ESRGAN/releases/download/v0.1.0/RealESRGAN_x4plus.pth -P experiments/pretrained_models\n",
        "%cd .."
      ],
      "execution_count": null,
      "outputs": []
    },
    {
      "cell_type": "markdown",
      "source": [
        "# **Step 2: Upload the video file:**"
      ],
      "metadata": {
        "id": "p_ke4A8hA6_x"
      }
    },
    {
      "cell_type": "code",
      "metadata": {
        "id": "u1tiyMZJW5td"
      },
      "source": [
        "if drive_mounted is not True:\n",
        "\n",
        "  upload_folder = 'upload'\n",
        "\n",
        "  if os.path.isdir(upload_folder):\n",
        "      shutil.rmtree(upload_folder)\n",
        "\n",
        "  os.mkdir(upload_folder)\n",
        "\n",
        "  # upload images\n",
        "  uploaded = files.upload()\n",
        "  file_name = next(iter(uploaded))\n",
        "  input_path = f'/content/{upload_folder}/{file_name}'\n",
        "  for filename in uploaded.keys():\n",
        "    dst_path = os.path.join(upload_folder, filename)\n",
        "    print(f'move {filename} to {dst_path}')\n",
        "    shutil.move(filename, dst_path)\n",
        "else:\n",
        "  print(\"drive mounted nothing to do here move along\")"
      ],
      "execution_count": null,
      "outputs": []
    },
    {
      "cell_type": "markdown",
      "source": [
        "# **Step 3: Extract the frames from the video file:**"
      ],
      "metadata": {
        "id": "orAGlzPxBFRc"
      }
    },
    {
      "cell_type": "code",
      "source": [
        "if os.path.isdir(temp_folder):\n",
        "  shutil.rmtree(temp_folder)\n",
        "\n",
        "os.mkdir(temp_folder)\n",
        "print(f'Extracting Frames to: {temp_folder}')\n",
        "cmd = [\n",
        "       'ffmpeg',\n",
        "       '-i',\n",
        "       input_path,\n",
        "       '-qscale:v',\n",
        "       '1',\n",
        "       '-qmin',\n",
        "       '1',\n",
        "       '-qmax',\n",
        "       '1',\n",
        "       '-vsync',\n",
        "       '0',\n",
        "       f'{temp_folder}/frame_%08d.png'\n",
        "]\n",
        "process = subprocess.Popen(cmd, stdout=subprocess.PIPE, stderr=subprocess.PIPE)\n",
        "stdout, stderr = process.communicate()\n",
        "if process.returncode != 0:\n",
        "    print(stderr)\n",
        "    raise RuntimeError(stderr)\n",
        "else:\n",
        "    frame_count = len(os.listdir(f'/content/{temp_folder}'))\n",
        "    print(f\"Done, Extracted {frame_count} Frames\")\n"
      ],
      "metadata": {
        "id": "F5RCrfMkBEbQ"
      },
      "execution_count": null,
      "outputs": []
    },
    {
      "cell_type": "markdown",
      "source": [
        "# **Step 4: Run ERSGAN on Extracted Frames!**"
      ],
      "metadata": {
        "id": "61zMvSqLBgKd"
      }
    },
    {
      "cell_type": "code",
      "metadata": {
        "id": "XTVL4m_zXqBU"
      },
      "source": [
        "%cd /content/Real-ESRGAN\n",
        "frame_count = len(os.listdir(f'/content/{temp_folder}'))\n",
        "print(f\"Enhancing {frame_count} Frames with ESRGAN...\")\n",
        "cmd = [\n",
        "    'python',\n",
        "    'inference_realesrgan.py',\n",
        "    '-n',\n",
        "    'RealESRGAN_x4plus',\n",
        "    '-i',\n",
        "    f'../{temp_folder}',\n",
        "    '--outscale',\n",
        "    '4',\n",
        "    '--face_enhance'\n",
        "]\n",
        "#process = subprocess.Popen(cmd, stdout=subprocess.PIPE, stderr=subprocess.PIPE, text=True)\n",
        "# stdout, stderr = process.communicate()\n",
        "# if process.returncode != 0:\n",
        "#     print(stderr)\n",
        "#     raise RuntimeError(stderr)\n",
        "# else:\n",
        "#     print(\"Done Extracting Frames\")\n",
        "!{' '.join(cmd)}\n",
        "print(\"Done Enhancing Frames\")\n",
        "%cd .."
      ],
      "execution_count": null,
      "outputs": []
    },
    {
      "cell_type": "markdown",
      "source": [
        "# **Step 4: Create the same video from the enhanced frames**"
      ],
      "metadata": {
        "id": "0DQ5YZqcClNu"
      }
    },
    {
      "cell_type": "code",
      "source": [
        "import subprocess\n",
        "frame_count = len(os.listdir(f'/content/{temp_folder}'))\n",
        "if os.path.isdir(result_folder):\n",
        "  shutil.rmtree(result_folder)\n",
        "os.mkdir(result_folder)\n",
        "\n",
        "fps = 15\n",
        "print(f\"Recompiling {frame_count} Frames into Video...\")\n",
        "cmd = [\n",
        "       'ffmpeg',\n",
        "       '-i',\n",
        "       f'/content/Real-ESRGAN/results/frame_%08d_out.png',\n",
        "       '-c:a',\n",
        "       'copy',\n",
        "       '-c:v',\n",
        "       'libx264',\n",
        "       '-r',\n",
        "       str(fps),\n",
        "       '-pix_fmt',\n",
        "       'yuv420p',\n",
        "       f'{result_folder}/enhanced_{file_name}'\n",
        "]\n",
        "process = subprocess.Popen(cmd, stdout=subprocess.PIPE, stderr=subprocess.PIPE)\n",
        "stdout, stderr = process.communicate()\n",
        "if process.returncode != 0:\n",
        "    print(stderr)\n",
        "    raise RuntimeError(stderr)\n",
        "else:\n",
        "    print(\"Done Recreating Video\")"
      ],
      "metadata": {
        "id": "Q9V7MOOgBTY7"
      },
      "execution_count": null,
      "outputs": []
    },
    {
      "cell_type": "markdown",
      "source": [
        "# **Final result is saved in the path: /content/Real-ESRGAN/results**"
      ],
      "metadata": {
        "id": "brn-1U1kBsaK"
      }
    }
  ]
}